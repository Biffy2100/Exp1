{
  "nbformat": 4,
  "nbformat_minor": 0,
  "metadata": {
    "colab": {
      "provenance": [],
      "authorship_tag": "ABX9TyPgZ4p7Fru8cisOGRtqqv4V",
      "include_colab_link": true
    },
    "kernelspec": {
      "name": "python3",
      "display_name": "Python 3"
    },
    "language_info": {
      "name": "python"
    }
  },
  "cells": [
    {
      "cell_type": "markdown",
      "metadata": {
        "id": "view-in-github",
        "colab_type": "text"
      },
      "source": [
        "<a href=\"https://colab.research.google.com/github/Biffy2100/Exp1/blob/main/SYAIDS_SEM_3_SKILL.ipynb\" target=\"_parent\"><img src=\"https://colab.research.google.com/assets/colab-badge.svg\" alt=\"Open In Colab\"/></a>"
      ]
    },
    {
      "cell_type": "markdown",
      "source": [
        "Experiment 1\n"
      ],
      "metadata": {
        "id": "emXGJZDhY0DM"
      }
    },
    {
      "cell_type": "markdown",
      "source": [
        "Import drive from google.colab\n"
      ],
      "metadata": {
        "id": "RyEXgQtTieB-"
      }
    },
    {
      "cell_type": "code",
      "execution_count": 14,
      "metadata": {
        "colab": {
          "base_uri": "https://localhost:8080/"
        },
        "id": "fjaw3_VShDjD",
        "outputId": "f65b0167-c140-469d-9d94-07b3deccdb73"
      },
      "outputs": [
        {
          "output_type": "stream",
          "name": "stdout",
          "text": [
            "Drive already mounted at /content/drive; to attempt to forcibly remount, call drive.mount(\"/content/drive\", force_remount=True).\n"
          ]
        }
      ],
      "source": [
        "from google.colab import drive\n",
        "drive.mount('/content/drive')\n",
        "import pandas as pd"
      ]
    },
    {
      "cell_type": "code",
      "source": [
        "url1 = '/content/winequality-red.csv'\n",
        "url2 = '/content/winequality-white.csv'\n",
        "\n",
        "df1 = pd.read_csv(url1,delimiter = ';')\n",
        "df2 = pd.read_csv(url2,delimiter = ';')\n",
        "\n",
        "print(df1.head())\n",
        "print(df2.head())"
      ],
      "metadata": {
        "colab": {
          "base_uri": "https://localhost:8080/"
        },
        "id": "GfTe4gqEimoz",
        "outputId": "4778ee82-d93b-4f3f-df2e-1d95e3ccd9e9"
      },
      "execution_count": 15,
      "outputs": [
        {
          "output_type": "stream",
          "name": "stdout",
          "text": [
            "   fixed acidity  volatile acidity  citric acid  residual sugar  chlorides  \\\n",
            "0            7.4              0.70         0.00             1.9      0.076   \n",
            "1            7.8              0.88         0.00             2.6      0.098   \n",
            "2            7.8              0.76         0.04             2.3      0.092   \n",
            "3           11.2              0.28         0.56             1.9      0.075   \n",
            "4            7.4              0.70         0.00             1.9      0.076   \n",
            "\n",
            "   free sulfur dioxide  total sulfur dioxide  density    pH  sulphates  \\\n",
            "0                 11.0                  34.0   0.9978  3.51       0.56   \n",
            "1                 25.0                  67.0   0.9968  3.20       0.68   \n",
            "2                 15.0                  54.0   0.9970  3.26       0.65   \n",
            "3                 17.0                  60.0   0.9980  3.16       0.58   \n",
            "4                 11.0                  34.0   0.9978  3.51       0.56   \n",
            "\n",
            "   alcohol  quality  \n",
            "0      9.4        5  \n",
            "1      9.8        5  \n",
            "2      9.8        5  \n",
            "3      9.8        6  \n",
            "4      9.4        5  \n",
            "   fixed acidity  volatile acidity  citric acid  residual sugar  chlorides  \\\n",
            "0            7.0              0.27         0.36            20.7      0.045   \n",
            "1            6.3              0.30         0.34             1.6      0.049   \n",
            "2            8.1              0.28         0.40             6.9      0.050   \n",
            "3            7.2              0.23         0.32             8.5      0.058   \n",
            "4            7.2              0.23         0.32             8.5      0.058   \n",
            "\n",
            "   free sulfur dioxide  total sulfur dioxide  density    pH  sulphates  \\\n",
            "0                 45.0                 170.0   1.0010  3.00       0.45   \n",
            "1                 14.0                 132.0   0.9940  3.30       0.49   \n",
            "2                 30.0                  97.0   0.9951  3.26       0.44   \n",
            "3                 47.0                 186.0   0.9956  3.19       0.40   \n",
            "4                 47.0                 186.0   0.9956  3.19       0.40   \n",
            "\n",
            "   alcohol  quality  \n",
            "0      8.8        6  \n",
            "1      9.5        6  \n",
            "2     10.1        6  \n",
            "3      9.9        6  \n",
            "4      9.9        6  \n"
          ]
        }
      ]
    },
    {
      "cell_type": "code",
      "source": [
        "merged_df = pd.concat([df1, df2])\n",
        "print(merged_df.head())\n",
        "\n",
        "renamed_df = merged_df.rename(columns = {'fixed acidity': 'acidity'})\n",
        "print(renamed_df.head())"
      ],
      "metadata": {
        "id": "LDGBB6sUlAz_",
        "colab": {
          "base_uri": "https://localhost:8080/"
        },
        "outputId": "a2a48ce9-c540-43a8-836b-530258749094"
      },
      "execution_count": 16,
      "outputs": [
        {
          "output_type": "stream",
          "name": "stdout",
          "text": [
            "   fixed acidity  volatile acidity  citric acid  residual sugar  chlorides  \\\n",
            "0            7.4              0.70         0.00             1.9      0.076   \n",
            "1            7.8              0.88         0.00             2.6      0.098   \n",
            "2            7.8              0.76         0.04             2.3      0.092   \n",
            "3           11.2              0.28         0.56             1.9      0.075   \n",
            "4            7.4              0.70         0.00             1.9      0.076   \n",
            "\n",
            "   free sulfur dioxide  total sulfur dioxide  density    pH  sulphates  \\\n",
            "0                 11.0                  34.0   0.9978  3.51       0.56   \n",
            "1                 25.0                  67.0   0.9968  3.20       0.68   \n",
            "2                 15.0                  54.0   0.9970  3.26       0.65   \n",
            "3                 17.0                  60.0   0.9980  3.16       0.58   \n",
            "4                 11.0                  34.0   0.9978  3.51       0.56   \n",
            "\n",
            "   alcohol  quality  \n",
            "0      9.4        5  \n",
            "1      9.8        5  \n",
            "2      9.8        5  \n",
            "3      9.8        6  \n",
            "4      9.4        5  \n",
            "   acidity  volatile acidity  citric acid  residual sugar  chlorides  \\\n",
            "0      7.4              0.70         0.00             1.9      0.076   \n",
            "1      7.8              0.88         0.00             2.6      0.098   \n",
            "2      7.8              0.76         0.04             2.3      0.092   \n",
            "3     11.2              0.28         0.56             1.9      0.075   \n",
            "4      7.4              0.70         0.00             1.9      0.076   \n",
            "\n",
            "   free sulfur dioxide  total sulfur dioxide  density    pH  sulphates  \\\n",
            "0                 11.0                  34.0   0.9978  3.51       0.56   \n",
            "1                 25.0                  67.0   0.9968  3.20       0.68   \n",
            "2                 15.0                  54.0   0.9970  3.26       0.65   \n",
            "3                 17.0                  60.0   0.9980  3.16       0.58   \n",
            "4                 11.0                  34.0   0.9978  3.51       0.56   \n",
            "\n",
            "   alcohol  quality  \n",
            "0      9.4        5  \n",
            "1      9.8        5  \n",
            "2      9.8        5  \n",
            "3      9.8        6  \n",
            "4      9.4        5  \n"
          ]
        }
      ]
    },
    {
      "cell_type": "markdown",
      "source": [
        "Experiment 2"
      ],
      "metadata": {
        "id": "ARrn5VpbZ6Sq"
      }
    },
    {
      "cell_type": "code",
      "source": [
        "from google.colab import drive\n",
        "drive.mount('/content/drive')\n",
        "import pandas as pd\n",
        "\n",
        "urlD = '/content/Diabetes.csv'\n",
        "\n",
        "dfD = pd.read_csv(urlD)\n",
        "print(dfD.head())"
      ],
      "metadata": {
        "id": "W4KuTxT5YPNb",
        "colab": {
          "base_uri": "https://localhost:8080/"
        },
        "outputId": "7f0239a1-a86a-44dc-a393-5580d9bdda13"
      },
      "execution_count": 17,
      "outputs": [
        {
          "output_type": "stream",
          "name": "stdout",
          "text": [
            "Drive already mounted at /content/drive; to attempt to forcibly remount, call drive.mount(\"/content/drive\", force_remount=True).\n",
            "   pregnancies  glucose  diastolic  triceps  insulin   bmi    dpf  age  \\\n",
            "0            6      148         72       35        0  33.6  0.627   50   \n",
            "1            1       85         66       29        0  26.6  0.351   31   \n",
            "2            8      183         64        0        0  23.3  0.672   32   \n",
            "3            1       89         66       23       94  28.1  0.167   21   \n",
            "4            0      137         40       35      168  43.1  2.288   33   \n",
            "\n",
            "   diabetes  \n",
            "0         1  \n",
            "1         0  \n",
            "2         1  \n",
            "3         0  \n",
            "4         1  \n"
          ]
        }
      ]
    },
    {
      "cell_type": "code",
      "source": [
        "dfD.dropna(inplace = True)\n",
        "print(dfD.head())"
      ],
      "metadata": {
        "id": "0DL2042kaNR_",
        "colab": {
          "base_uri": "https://localhost:8080/"
        },
        "outputId": "33303c95-45cb-4bcf-c283-3c41813b31c6"
      },
      "execution_count": 18,
      "outputs": [
        {
          "output_type": "stream",
          "name": "stdout",
          "text": [
            "   pregnancies  glucose  diastolic  triceps  insulin   bmi    dpf  age  \\\n",
            "0            6      148         72       35        0  33.6  0.627   50   \n",
            "1            1       85         66       29        0  26.6  0.351   31   \n",
            "2            8      183         64        0        0  23.3  0.672   32   \n",
            "3            1       89         66       23       94  28.1  0.167   21   \n",
            "4            0      137         40       35      168  43.1  2.288   33   \n",
            "\n",
            "   diabetes  \n",
            "0         1  \n",
            "1         0  \n",
            "2         1  \n",
            "3         0  \n",
            "4         1  \n"
          ]
        }
      ]
    },
    {
      "cell_type": "markdown",
      "source": [
        "https://github.com/YBI-Foundation/Dataset/blob/main/Diabetes.csv"
      ],
      "metadata": {
        "id": "HFHb0jBFlE4k"
      }
    },
    {
      "cell_type": "markdown",
      "source": [
        "Experiment 3"
      ],
      "metadata": {
        "id": "YXlC5Of6NNZc"
      }
    },
    {
      "cell_type": "code",
      "source": [
        "import pandas as pd\n",
        "df = pd.read_csv('/content/Diabetes.csv')\n",
        "print(df.head())\n",
        "\n",
        "\n",
        "df.dropna(inplace=True)\n",
        "df.info()\n",
        "\n",
        "\n",
        ""
      ],
      "metadata": {
        "colab": {
          "base_uri": "https://localhost:8080/"
        },
        "id": "PfT8-IW1NSkE",
        "outputId": "51f6ab6f-356e-40bf-b826-ba181985f015"
      },
      "execution_count": 19,
      "outputs": [
        {
          "output_type": "stream",
          "name": "stdout",
          "text": [
            "   pregnancies  glucose  diastolic  triceps  insulin   bmi    dpf  age  \\\n",
            "0            6      148         72       35        0  33.6  0.627   50   \n",
            "1            1       85         66       29        0  26.6  0.351   31   \n",
            "2            8      183         64        0        0  23.3  0.672   32   \n",
            "3            1       89         66       23       94  28.1  0.167   21   \n",
            "4            0      137         40       35      168  43.1  2.288   33   \n",
            "\n",
            "   diabetes  \n",
            "0         1  \n",
            "1         0  \n",
            "2         1  \n",
            "3         0  \n",
            "4         1  \n",
            "<class 'pandas.core.frame.DataFrame'>\n",
            "RangeIndex: 768 entries, 0 to 767\n",
            "Data columns (total 9 columns):\n",
            " #   Column       Non-Null Count  Dtype  \n",
            "---  ------       --------------  -----  \n",
            " 0   pregnancies  768 non-null    int64  \n",
            " 1   glucose      768 non-null    int64  \n",
            " 2   diastolic    768 non-null    int64  \n",
            " 3   triceps      768 non-null    int64  \n",
            " 4   insulin      768 non-null    int64  \n",
            " 5   bmi          768 non-null    float64\n",
            " 6   dpf          768 non-null    float64\n",
            " 7   age          768 non-null    int64  \n",
            " 8   diabetes     768 non-null    int64  \n",
            "dtypes: float64(2), int64(7)\n",
            "memory usage: 54.1 KB\n"
          ]
        }
      ]
    },
    {
      "cell_type": "code",
      "source": [
        "import seaborn as sns\n",
        "import matplotlib.pyplot as plt\n",
        "sns.histplot(df['glucose'],bins=10,kde=True)\n",
        "plt.title('Histogram of Glucose')\n",
        "plt.xlabel('Glucose')\n",
        "plt.ylabel('Frequency')\n",
        "plt.show()"
      ],
      "metadata": {
        "colab": {
          "base_uri": "https://localhost:8080/",
          "height": 472
        },
        "id": "Tn2br1nwOaW7",
        "outputId": "1a3ec837-6a38-48d9-e9b5-82bf8d7d6f69"
      },
      "execution_count": 20,
      "outputs": [
        {
          "output_type": "display_data",
          "data": {
            "text/plain": [
              "<Figure size 640x480 with 1 Axes>"
            ],
            "image/png": "[encoded data removed]"
          },
          "metadata": {}
        }
      ]
    }
  ]
}